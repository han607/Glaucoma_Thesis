{
 "cells": [
  {
   "cell_type": "code",
   "execution_count": 3,
   "metadata": {},
   "outputs": [],
   "source": [
    "import pandas as pd\n",
    "import numpy as np"
   ]
  },
  {
   "cell_type": "code",
   "execution_count": 7,
   "metadata": {},
   "outputs": [],
   "source": [
    "data_MD_ANN_2 = pd.read_csv('/Users/andrewlin/Desktop/Thesis Project/ANN/Interval of 2 visits/Predicted_vs_Actual_of_MD')\n",
    "data_MD_ANN_3 = pd.read_csv('/Users/andrewlin/Desktop/Thesis Project/ANN/Interval of 3 visits/Predicted_vs_Actual_of_MD')\n",
    "data_MD_ANN_4 = pd.read_csv('/Users/andrewlin/Desktop/Thesis Project/ANN/Interval of 4 visits/Predicted_vs_Actual_of_MD')\n",
    "\n",
    "data_MD_RNN_3 = pd.read_csv('/Users/andrewlin/Desktop/Thesis Project/RNN/LSTM with 3 intervals/Predicted_vs_Actual_of_MD')\n",
    "data_MD_RNN_4 = pd.read_csv('/Users/andrewlin/Desktop/Thesis Project/RNN/LSTM with 4 intervals/Predicted_vs_Actual_of_MD')\n",
    "data_MD_RNN_0 = pd.read_csv('/Users/andrewlin/Desktop/Thesis Project/RNN/LSTM without intervals/Predicted_vs_Actual_of_MD')\n",
    "\n"
   ]
  },
  {
   "cell_type": "markdown",
   "metadata": {},
   "source": [
    "# RNN 3/4/0 visits"
   ]
  },
  {
   "cell_type": "code",
   "execution_count": 8,
   "metadata": {},
   "outputs": [
    {
     "name": "stderr",
     "output_type": "stream",
     "text": [
      "/anaconda3/lib/python3.6/site-packages/ipykernel_launcher.py:1: RuntimeWarning: divide by zero encountered in log10\n",
      "  \"\"\"Entry point for launching an IPython kernel.\n",
      "/anaconda3/lib/python3.6/site-packages/ipykernel_launcher.py:2: RuntimeWarning: divide by zero encountered in log10\n",
      "  \n",
      "/anaconda3/lib/python3.6/site-packages/ipykernel_launcher.py:3: RuntimeWarning: divide by zero encountered in log10\n",
      "  This is separate from the ipykernel package so we can avoid doing imports until\n"
     ]
    }
   ],
   "source": [
    "data_MD_RNN_3['predicted_decibel'] = 10*np.log10(data_MD_RNN_3['predicted'])\n",
    "data_MD_RNN_4['predicted_decibel'] = 10*np.log10(data_MD_RNN_4['predicted'])\n",
    "data_MD_RNN_0['predicted_decibel'] = 10*np.log10(data_MD_RNN_0['predicted'])\n",
    "\n",
    "data_MD_RNN_3['actual_decibel'] = 10*np.log10(data_MD_RNN_3['actual'])\n",
    "data_MD_RNN_4['actual_decibel'] = 10*np.log10(data_MD_RNN_4['actual'])\n",
    "data_MD_RNN_0['actual_decibel'] = 10*np.log10(data_MD_RNN_0['actual'])\n",
    "\n",
    "data_MD_RNN_3 = data_MD_RNN_3[data_MD_RNN_3['predicted'] != 0]\n",
    "data_MD_RNN_4 = data_MD_RNN_4[data_MD_RNN_4['predicted'] != 0]\n",
    "data_MD_RNN_0 = data_MD_RNN_0[data_MD_RNN_0['predicted'] != 0]\n",
    "\n",
    "# data_MD['predicted_decibel'] = 10*np.log10(data_MD['predicted'])\n",
    "# data_MD['actual_decibel'] = 10*np.log10(data_MD['actual'])\n",
    "# data_MD = data_MD[data_MD['predicted'] != 0]\n",
    "# data_MD"
   ]
  },
  {
   "cell_type": "code",
   "execution_count": 11,
   "metadata": {},
   "outputs": [],
   "source": [
    "difference_MD_RNN_3 = abs(data_MD_RNN_3['predicted_decibel']-data_MD_RNN_3['actual_decibel'])\n",
    "difference_MD_RNN_4 = abs(data_MD_RNN_4['predicted_decibel']-data_MD_RNN_4['actual_decibel'])\n",
    "difference_MD_RNN_0 = abs(data_MD_RNN_0['predicted_decibel']-data_MD_RNN_0['actual_decibel'])"
   ]
  },
  {
   "cell_type": "code",
   "execution_count": 12,
   "metadata": {},
   "outputs": [
    {
     "data": {
      "text/plain": [
       "count    584.000000\n",
       "mean       1.274816\n",
       "std        1.692143\n",
       "min        0.000228\n",
       "25%        0.419328\n",
       "50%        0.816400\n",
       "75%        1.607436\n",
       "max       20.748367\n",
       "dtype: float64"
      ]
     },
     "execution_count": 12,
     "metadata": {},
     "output_type": "execute_result"
    }
   ],
   "source": [
    "difference_MD_RNN_3.describe()"
   ]
  },
  {
   "cell_type": "code",
   "execution_count": 13,
   "metadata": {},
   "outputs": [
    {
     "data": {
      "text/plain": [
       "count    459.000000\n",
       "mean       1.347077\n",
       "std        1.778755\n",
       "min        0.008713\n",
       "25%        0.445397\n",
       "50%        1.037695\n",
       "75%        1.664679\n",
       "max       27.277941\n",
       "dtype: float64"
      ]
     },
     "execution_count": 13,
     "metadata": {},
     "output_type": "execute_result"
    }
   ],
   "source": [
    "difference_MD_RNN_4.describe()"
   ]
  },
  {
   "cell_type": "code",
   "execution_count": 14,
   "metadata": {},
   "outputs": [
    {
     "data": {
      "text/plain": [
       "count    149.000000\n",
       "mean       1.723284\n",
       "std        2.751316\n",
       "min        0.004804\n",
       "25%        0.519877\n",
       "50%        1.213706\n",
       "75%        1.849007\n",
       "max       21.799722\n",
       "dtype: float64"
      ]
     },
     "execution_count": 14,
     "metadata": {},
     "output_type": "execute_result"
    }
   ],
   "source": [
    "difference_MD_RNN_0.describe()"
   ]
  },
  {
   "cell_type": "markdown",
   "metadata": {},
   "source": [
    "# ANN 3/4 Visits"
   ]
  },
  {
   "cell_type": "code",
   "execution_count": 15,
   "metadata": {},
   "outputs": [
    {
     "name": "stderr",
     "output_type": "stream",
     "text": [
      "/anaconda3/lib/python3.6/site-packages/ipykernel_launcher.py:1: RuntimeWarning: invalid value encountered in log10\n",
      "  \"\"\"Entry point for launching an IPython kernel.\n",
      "/anaconda3/lib/python3.6/site-packages/ipykernel_launcher.py:2: RuntimeWarning: invalid value encountered in log10\n",
      "  \n",
      "/anaconda3/lib/python3.6/site-packages/ipykernel_launcher.py:3: RuntimeWarning: invalid value encountered in log10\n",
      "  This is separate from the ipykernel package so we can avoid doing imports until\n"
     ]
    }
   ],
   "source": [
    "# data_MD_ANN_2['predicted_decibel'] = 10*np.log10(data_MD_ANN_2['predicted'])\n",
    "data_MD_ANN_3['predicted_decibel'] = 10*np.log10(data_MD_ANN_3['predicted'])\n",
    "data_MD_ANN_4['predicted_decibel'] = 10*np.log10(data_MD_ANN_4['predicted'])\n",
    "\n",
    "# data_MD_ANN_2['actual_decibel'] = 10*np.log10(data_MD_ANN_2['actual'])\n",
    "data_MD_ANN_3['actual_decibel'] = 10*np.log10(data_MD_ANN_3['actual'])\n",
    "data_MD_ANN_4['actual_decibel'] = 10*np.log10(data_MD_ANN_4['actual'])\n",
    "\n",
    "# data_MD_ANN_2 = data_MD_ANN_2[data_MD_ANN_2['predicted'] != 0]\n",
    "data_MD_ANN_3 = data_MD_ANN_3[data_MD_ANN_3['predicted'] != 0]\n",
    "data_MD_ANN_4 = data_MD_ANN_4[data_MD_ANN_4['predicted'] != 0]"
   ]
  },
  {
   "cell_type": "code",
   "execution_count": 16,
   "metadata": {},
   "outputs": [],
   "source": [
    "# difference_MD_ANN_2 = abs(data_MD_ANN_2['predicted_decibel']-data_MD_ANN_2['actual_decibel'])\n",
    "difference_MD_ANN_3 = abs(data_MD_ANN_3['predicted_decibel']-data_MD_ANN_3['actual_decibel'])\n",
    "difference_MD_ANN_4 = abs(data_MD_ANN_4['predicted_decibel']-data_MD_ANN_4['actual_decibel'])"
   ]
  },
  {
   "cell_type": "code",
   "execution_count": 17,
   "metadata": {},
   "outputs": [
    {
     "data": {
      "text/plain": [
       "count    828.000000\n",
       "mean       1.300133\n",
       "std        1.744188\n",
       "min        0.001994\n",
       "25%        0.396352\n",
       "50%        0.852269\n",
       "75%        1.619761\n",
       "max       23.655243\n",
       "dtype: float64"
      ]
     },
     "execution_count": 17,
     "metadata": {},
     "output_type": "execute_result"
    }
   ],
   "source": [
    "# difference_MD_ANN_2.describe()"
   ]
  },
  {
   "cell_type": "code",
   "execution_count": 18,
   "metadata": {},
   "outputs": [
    {
     "data": {
      "text/plain": [
       "count    645.000000\n",
       "mean       1.558062\n",
       "std        1.984689\n",
       "min        0.001497\n",
       "25%        0.446981\n",
       "50%        0.943755\n",
       "75%        1.914556\n",
       "max       21.182036\n",
       "dtype: float64"
      ]
     },
     "execution_count": 18,
     "metadata": {},
     "output_type": "execute_result"
    }
   ],
   "source": [
    "difference_MD_ANN_3.describe()"
   ]
  },
  {
   "cell_type": "code",
   "execution_count": 19,
   "metadata": {},
   "outputs": [
    {
     "data": {
      "text/plain": [
       "count    478.000000\n",
       "mean       1.139258\n",
       "std        1.288581\n",
       "min        0.001925\n",
       "25%        0.389360\n",
       "50%        0.757758\n",
       "75%        1.492463\n",
       "max       11.446818\n",
       "dtype: float64"
      ]
     },
     "execution_count": 19,
     "metadata": {},
     "output_type": "execute_result"
    }
   ],
   "source": [
    "difference_MD_ANN_4.describe()"
   ]
  },
  {
   "cell_type": "markdown",
   "metadata": {},
   "source": [
    "# Linear 3/4 Visits"
   ]
  },
  {
   "cell_type": "code",
   "execution_count": 20,
   "metadata": {},
   "outputs": [],
   "source": [
    "list_MD_predicted_Linear_3 = pd.read_csv('Y_predictions_Linear_3', header = None)\n",
    "list_MD_predicted_Linear_4 = pd.read_csv('Y_predictions_Linear_4', header = None)\n",
    "list_MD_actual_Linear_3 = pd.read_csv('Y_actuals_Linear_3', header = None)\n",
    "list_MD_actual_Linear_4 = pd.read_csv('Y_actuals_Linear_4', header = None)"
   ]
  },
  {
   "cell_type": "code",
   "execution_count": 21,
   "metadata": {
    "scrolled": true
   },
   "outputs": [],
   "source": [
    "Linear_MD_DF_3 = pd.concat([list_MD_actual_Linear_3, list_MD_predicted_Linear_3], axis = 1)\n",
    "Linear_MD_DF_4 = pd.concat([list_MD_actual_Linear_4, list_MD_predicted_Linear_4], axis = 1)\n",
    "\n",
    "Linear_MD_DF_3.columns = ['actual', 'predicted']\n",
    "Linear_MD_DF_4.columns = ['actual', 'predicted']"
   ]
  },
  {
   "cell_type": "code",
   "execution_count": 22,
   "metadata": {},
   "outputs": [
    {
     "name": "stderr",
     "output_type": "stream",
     "text": [
      "/anaconda3/lib/python3.6/site-packages/ipykernel_launcher.py:1: RuntimeWarning: invalid value encountered in log10\n",
      "  \"\"\"Entry point for launching an IPython kernel.\n",
      "/anaconda3/lib/python3.6/site-packages/ipykernel_launcher.py:2: RuntimeWarning: invalid value encountered in log10\n",
      "  \n"
     ]
    }
   ],
   "source": [
    "Linear_MD_DF_3['predicted_decibel'] = 10*np.log10(Linear_MD_DF_3['predicted'])\n",
    "Linear_MD_DF_4['predicted_decibel'] = 10*np.log10(Linear_MD_DF_4['predicted'])\n",
    "\n",
    "Linear_MD_DF_3['actual_decibel'] = 10*np.log10(Linear_MD_DF_3['actual'])\n",
    "Linear_MD_DF_4['actual_decibel'] = 10*np.log10(Linear_MD_DF_4['actual'])\n",
    "\n",
    "Linear_MD_DF_3 = Linear_MD_DF_3[Linear_MD_DF_3['predicted'] != 0]\n",
    "Linear_MD_DF_4 = Linear_MD_DF_4[Linear_MD_DF_4['predicted'] != 0]"
   ]
  },
  {
   "cell_type": "code",
   "execution_count": 23,
   "metadata": {},
   "outputs": [],
   "source": [
    "Linear_MD_DF_3 = abs(Linear_MD_DF_3['predicted_decibel']-Linear_MD_DF_3['actual_decibel'])\n",
    "Linear_MD_DF_4 = abs(Linear_MD_DF_4['predicted_decibel']-Linear_MD_DF_4['actual_decibel'])"
   ]
  },
  {
   "cell_type": "code",
   "execution_count": 26,
   "metadata": {},
   "outputs": [
    {
     "data": {
      "text/plain": [
       "count    3053.000000\n",
       "mean        2.023257\n",
       "std         2.302811\n",
       "min         0.000320\n",
       "25%         0.584686\n",
       "50%         1.343381\n",
       "75%         2.614517\n",
       "max        29.623022\n",
       "dtype: float64"
      ]
     },
     "execution_count": 26,
     "metadata": {},
     "output_type": "execute_result"
    }
   ],
   "source": [
    "Linear_MD_DF_3.describe()"
   ]
  },
  {
   "cell_type": "code",
   "execution_count": 27,
   "metadata": {},
   "outputs": [
    {
     "data": {
      "text/plain": [
       "count    2365.000000\n",
       "mean        1.554992\n",
       "std         1.735565\n",
       "min         0.000343\n",
       "25%         0.474138\n",
       "50%         1.059534\n",
       "75%         1.994721\n",
       "max        19.650289\n",
       "dtype: float64"
      ]
     },
     "execution_count": 27,
     "metadata": {},
     "output_type": "execute_result"
    }
   ],
   "source": [
    "Linear_MD_DF_4.describe()"
   ]
  },
  {
   "cell_type": "code",
   "execution_count": null,
   "metadata": {},
   "outputs": [],
   "source": []
  }
 ],
 "metadata": {
  "kernelspec": {
   "display_name": "Python 3",
   "language": "python",
   "name": "python3"
  },
  "language_info": {
   "codemirror_mode": {
    "name": "ipython",
    "version": 3
   },
   "file_extension": ".py",
   "mimetype": "text/x-python",
   "name": "python",
   "nbconvert_exporter": "python",
   "pygments_lexer": "ipython3",
   "version": "3.6.8"
  }
 },
 "nbformat": 4,
 "nbformat_minor": 2
}
